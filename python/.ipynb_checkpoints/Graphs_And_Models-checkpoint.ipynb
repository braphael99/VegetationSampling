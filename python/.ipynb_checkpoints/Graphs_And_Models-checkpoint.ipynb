{
 "cells": [
  {
   "cell_type": "markdown",
   "id": "327cfa9b",
   "metadata": {},
   "source": [
    "# Graphs and Models Notebook\n",
    "The intention of this notebook is to show the different graphs and models used in the Vegetation Sampling web app with dummy data (the real data can be found on the website)!"
   ]
  },
  {
   "cell_type": "code",
   "execution_count": 1,
   "id": "b8b191b5",
   "metadata": {},
   "outputs": [],
   "source": [
    "#First lets import some libraries\n",
    "import numpy as np\n",
    "import pandas as pd\n",
    "import matplotlib\n",
    "import matplotlib.pyplot as plt\n",
    "import math"
   ]
  },
  {
   "cell_type": "code",
   "execution_count": null,
   "id": "3655351f",
   "metadata": {},
   "outputs": [],
   "source": [
    "#Now lets add some dummy data\n",
    "heights = [1,2,3,4,5]\n",
    "diameters = [1,2,3,4,5]\n",
    "circumferences = [1,2,3,4,5]\n",
    "basiAreas = [1,2,3,4,5]"
   ]
  }
 ],
 "metadata": {
  "kernelspec": {
   "display_name": "Python 3 (ipykernel)",
   "language": "python",
   "name": "python3"
  },
  "language_info": {
   "codemirror_mode": {
    "name": "ipython",
    "version": 3
   },
   "file_extension": ".py",
   "mimetype": "text/x-python",
   "name": "python",
   "nbconvert_exporter": "python",
   "pygments_lexer": "ipython3",
   "version": "3.9.13"
  }
 },
 "nbformat": 4,
 "nbformat_minor": 5
}
